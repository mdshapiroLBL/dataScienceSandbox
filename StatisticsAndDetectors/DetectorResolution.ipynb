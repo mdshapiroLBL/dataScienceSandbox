{
 "cells": [
  {
   "cell_type": "markdown",
   "metadata": {},
   "source": [
    "# Detector Resolution"
   ]
  },
  {
   "cell_type": "markdown",
   "metadata": {},
   "source": [
    "### Learning Goals\n",
    "* See that you can use $\\sigma$ as a measure of resolution even for distributions that are not Gaussian.\n",
    "\n",
    "* Learn how to write a simple Monte Carlo, and use it to reproduce an analytical result.\n",
    "\n",
    "* Understand what position resolution means using a silicon strip detector as an example.\n",
    "\n",
    "* Demonstrate that you can use simulation to solve problems that are more complicated than what can be done analytically.\n",
    "\n",
    "* Learn how noise affects measurements for a simple case. "
   ]
  },
  {
   "cell_type": "markdown",
   "metadata": {},
   "source": [
    "## 1. Measurement Uncertainties"
   ]
  },
  {
   "cell_type": "markdown",
   "metadata": {},
   "source": [
    "The [*Central Limit Theorem*](https://en.wikipedia.org/wiki/Central_limit_theorem) tells us  that \n",
    "the distribution of the sum (or average) of a large number of independent, identically \n",
    "distributed measurements will be approximately normal, regardless of the underlying distribution\n",
    "(subject to the condition that mean and variance of the underlying distribution are not infinite).\n",
    "We'll see how this works for the simplest pdf ([probability density function](https://www.khanacademy.org/math/statistics-probability/random-variables-stats-library/random-variables-continuous/v/probability-density-functions)), a random variable $x$ uniformly distributed:"
   ]
  },
  {
   "cell_type": "markdown",
   "metadata": {},
   "source": [
    "$$f(x) = \\begin{cases} \\frac{1}{b-a} &\\mbox{if } a \\leq x \\leq b \\\\ \n",
    "0 & \\mbox{otherwise} \\end{cases} $$"
   ]
  },
  {
   "cell_type": "markdown",
   "metadata": {},
   "source": [
    "**a)**  Calculate the mean ($\\mu$) and variance ($\\sigma^2$) of the above distribution."
   ]
  },
  {
   "cell_type": "markdown",
   "metadata": {},
   "source": [
    "**Answer**"
   ]
  },
  {
   "cell_type": "markdown",
   "metadata": {},
   "source": [
    "$$\\begin{align*}\n",
    "    \\mu &= \\int x \\ f(x) \\ dx\\\\\n",
    "        &= \\int_a^b \\frac{x}{b - a} dx\\\\\n",
    "        &=\\frac{1}{b -a} \\Big(\\frac{b^2 - a^2}{2}\\Big)\\\\\n",
    "        &= \\frac{b + a}{2},       \n",
    "\\end{align*}$$"
   ]
  },
  {
   "cell_type": "markdown",
   "metadata": {},
   "source": [
    "\\begin{align*}\n",
    "    \\sigma^2 &= \\int (x - \\mu)^2 \\ f(x) \\ dx\\\\\n",
    "             &= \\frac{1}{b-a} \\int_a^b (x - \\mu)^2 dx \\\\\n",
    "             &= \\frac{1}{b-a} \\Big( \\frac{(b - \\mu)^3}{3} - \\frac{(a - \\mu)^3}{3}\\Big)\\\\\n",
    "             &= \\frac{1}{b-a} \\Big( \\frac{(b/2 - a/2)^3}{3} - \\frac{(a/2 - b/2)^3}{3}\\Big)\\\\\n",
    "             &= \\frac{1}{b-a} \\frac{2(b/2 - a/2)^3}{3} \\\\\n",
    "             &= \\frac{1}{b-a} \\frac{1}{12} (b-a)^3\\\\\n",
    "             &= \\frac{(b-a)^2}{12}.\n",
    "\\end{align*}"
   ]
  },
  {
   "cell_type": "markdown",
   "metadata": {},
   "source": [
    "**(b)** Let $a=0$ and $b=1$. Using your favorite random number generator, generate 1000 random numbers from the uniform distribution, $f(x)$.  Calculate the mean and sigma of the numbers you have generated and verify that the results are consistent with your result from  part (a)."
   ]
  },
  {
   "cell_type": "markdown",
   "metadata": {},
   "source": [
    "**Answer** With $a = 0$ and $b=1$, our analytical result from above gives $\\mu = \\frac{1}{2}$ and $\\sigma = \\frac{1}{\\sqrt{12}}$.  We can reproduce this result numerically using the [Monte Carlo method](https://en.wikipedia.org/wiki/Monte_Carlo_method).  The heart of every Monte Carlo algorithm is a random number generator.  We use it to generate random samples from some probability distribution, and then use these in a (sometimes) clever way to solve a problem."
   ]
  },
  {
   "cell_type": "markdown",
   "metadata": {},
   "source": [
    "For example, suppose you don't know how to set-up or solve the integrals above, but you know how to find the mean and variance of a list of numbers.  Let's use the **NumPy** (**Num**erical **Py**thon) library to demonstrate."
   ]
  },
  {
   "cell_type": "code",
   "execution_count": 1,
   "metadata": {
    "collapsed": true
   },
   "outputs": [],
   "source": [
    "#Import the NumPy library as \"np\"\n",
    "import numpy as np\n",
    "\n",
    "#Create a list of numbers\n",
    "some_numbers = [1,2,3,4,5]"
   ]
  },
  {
   "cell_type": "markdown",
   "metadata": {},
   "source": [
    "Lucky for us, NumPy has lots of useful built-in functions and methods.  We could write our own functions to find the mean and variance,"
   ]
  },
  {
   "cell_type": "code",
   "execution_count": 2,
   "metadata": {},
   "outputs": [
    {
     "name": "stdout",
     "output_type": "stream",
     "text": [
      "3.0 2.0\n"
     ]
    }
   ],
   "source": [
    "def find_mean(num_list):\n",
    "    return sum(num_list)/len(num_list)\n",
    "\n",
    "def find_variance(num_list):\n",
    "    mean = find_mean(num_list)\n",
    "    return sum((num - mean)**2 for num in num_list)/len(num_list)\n",
    "\n",
    "print(find_mean(some_numbers), find_variance(some_numbers))"
   ]
  },
  {
   "cell_type": "markdown",
   "metadata": {},
   "source": [
    "or we could just use the ones provided by NumPy:"
   ]
  },
  {
   "cell_type": "code",
   "execution_count": 3,
   "metadata": {},
   "outputs": [
    {
     "name": "stdout",
     "output_type": "stream",
     "text": [
      "3.0 2.0\n"
     ]
    }
   ],
   "source": [
    "print(np.mean(some_numbers), np.var(some_numbers))"
   ]
  },
  {
   "cell_type": "markdown",
   "metadata": {},
   "source": [
    "Now, back to our original problem, we need a list of 1000 random numbers sampled from (0,1) uniformly.  NumPy can do this too:"
   ]
  },
  {
   "cell_type": "code",
   "execution_count": 4,
   "metadata": {},
   "outputs": [
    {
     "name": "stdout",
     "output_type": "stream",
     "text": [
      "[ 0.85614024  0.83702843  0.50957298  0.13908601  0.08981951  0.74865392\n",
      "  0.19311742  0.47087399  0.61487209  0.43537263]\n"
     ]
    }
   ],
   "source": [
    "#Use NumPy to generate a list (it's actually a numpy.ndarray) of 1000 random numbers\n",
    "samples = np.random.rand(1000)\n",
    "\n",
    "#Print the first 10 random numbers\n",
    "print(samples[0:10])"
   ]
  },
  {
   "cell_type": "markdown",
   "metadata": {},
   "source": [
    "We can then calculate $\\mu$ and $\\sigma$ of this random list and compare it against the analytical result."
   ]
  },
  {
   "cell_type": "code",
   "execution_count": 5,
   "metadata": {},
   "outputs": [
    {
     "name": "stdout",
     "output_type": "stream",
     "text": [
      "mean, sigma = 0.492, 0.288 using a Monte Carlo method\n",
      "mean, sigma = 0.500, 0.289 using an analytical method\n"
     ]
    }
   ],
   "source": [
    "mean, variance = np.mean(samples), np.var(samples)\n",
    "sigma = np.sqrt(variance)\n",
    "\n",
    "print(\"mean, sigma = {0:.3f}, {1:.3f} using a Monte Carlo method\".format(mean, sigma))\n",
    "print(\"mean, sigma = {0:.3f}, {1:.3f} using an analytical method\".format(0.5, 1/np.sqrt(12)))\n"
   ]
  },
  {
   "cell_type": "markdown",
   "metadata": {},
   "source": [
    "**(c)** Make a histogram  with 100 bins where the lower edge of the first bin is at $x=0$ and the upper\n",
    "edge of the last is at $x=1$.  Fill your histogram with the random numbers you generated in part (b)."
   ]
  },
  {
   "cell_type": "markdown",
   "metadata": {},
   "source": [
    "**Answer** We'll use the **matplotlib.pyplot** module to make several histograms throughout the assignment, so we should go ahead and import it now.  Making a histogram from a list of numbers is as simple as calling [plt.hist()](https://matplotlib.org/api/_as_gen/matplotlib.pyplot.hist.html), with the list as the input parameter.  There are many optional parameters, like the number of bins and the color of the bars.\n",
    "\n",
    "Since our histograms will share similar formatting, it's also useful to define a function rather than typing the same thing over and over."
   ]
  },
  {
   "cell_type": "code",
   "execution_count": 6,
   "metadata": {},
   "outputs": [
    {
     "data": {
      "image/png": "[encoded data removed]",
      "text/plain": [
       "<matplotlib.figure.Figure at 0x248abe3b9b0>"
      ]
     },
     "metadata": {},
     "output_type": "display_data"
    }
   ],
   "source": [
    "#Import the pyplot module of matplotlib as \"plt\"\n",
    "import matplotlib.pyplot as plt\n",
    "\n",
    "\n",
    "#Makes a histogram filled with the random numbers we generate\n",
    "def plot_histogram(samples):\n",
    "    \n",
    "    #It would be nice to have the mean and standard deviation in the title, so let's get these\n",
    "    mean, sigma = np.mean(samples), np.sqrt(np.var(samples))\n",
    "    \n",
    "    #Plot the histogram of the sampled data with 100 bins and a nice color\n",
    "    plt.hist(samples, bins=100, range=(0,1), color=(0,0.7,0.9))\n",
    "\n",
    "    #Add some axis labels and a descriptive title\n",
    "    plt.xlabel('sample value')\n",
    "    plt.ylabel('number of samples')\n",
    "    plt.title('uniform distribution sampling \\n $\\mu={0:.3f},\\ \\sigma={1:.3f}$'.format(mean,sigma) )\n",
    "\n",
    "    #Get rid of the extra white space on the left/right edges (you can delete these two lines without a problem)\n",
    "    xmin, xmax, ymin, ymax = plt.axis()\n",
    "    plt.axis([0,1,ymin,ymax])\n",
    "\n",
    "    #Not necessarily needed in a Jupyter notebook, but it doesn't hurt\n",
    "    plt.show()\n",
    "    \n",
    "    \n",
    "#Call the function we just wrote\n",
    "plot_histogram(samples)"
   ]
  },
  {
   "cell_type": "markdown",
   "metadata": {},
   "source": [
    "**(d)** Now suppose you make an ensemble of 1000 pseudoexperiments where each pseduoexperiment consists of $N$\n",
    "uniformly distributed random numbers.  For each pseudoexperiment, define the measurement $S$ to be\n",
    "$$\n",
    "S \\equiv \\frac{1}{N} \\sum_1^N x_i\n",
    "$$\n",
    "Make histograms of $S$ with the same $x-$axis as in part (c) for the cases $N=2$, $N=5$\n",
    "and $N=10$.  Determine the mean and the $\\sigma$ of the distributions displayed in\n",
    "these histograms.  In each case, compare the\n",
    "$\\sigma$ you obtain to what you would predict if you assumed the experiments followed a normal distribution."
   ]
  },
  {
   "cell_type": "markdown",
   "metadata": {},
   "source": [
    "**Answer**"
   ]
  },
  {
   "cell_type": "code",
   "execution_count": 7,
   "metadata": {
    "collapsed": true
   },
   "outputs": [],
   "source": [
    "#Calculates and returns S as defined above\n",
    "def pseudoexperiment(N):\n",
    "    samples = np.random.rand(N)  #samples = [x_1, x_2, ... x_N]\n",
    "    s = np.sum(samples)/N\n",
    "    return s\n",
    "\n",
    "#Performs each pseudoexperiment 1000 times and plot a histogram of the results\n",
    "def run_pseudoexperiments(N):\n",
    "    s_list = []\n",
    "    for i in range(1000):\n",
    "        s_list.append(pseudoexperiment(N))\n",
    "    plot_histogram(s_list)"
   ]
  },
  {
   "cell_type": "code",
   "execution_count": 8,
   "metadata": {},
   "outputs": [
    {
     "data": {
      "image/png": "[encoded data removed]",
      "text/plain": [
       "<matplotlib.figure.Figure at 0x248acff5198>"
      ]
     },
     "metadata": {},
     "output_type": "display_data"
    },
    {
     "data": {
      "image/png": "[encoded data removed]",
      "text/plain": [
       "<matplotlib.figure.Figure at 0x248ad0bf080>"
      ]
     },
     "metadata": {},
     "output_type": "display_data"
    },
    {
     "data": {
      "image/png": "[encoded data removed]",
      "text/plain": [
       "<matplotlib.figure.Figure at 0x248ad1cc320>"
      ]
     },
     "metadata": {},
     "output_type": "display_data"
    },
    {
     "data": {
      "image/png": "[encoded data removed]",
      "text/plain": [
       "<matplotlib.figure.Figure at 0x248ad2ea240>"
      ]
     },
     "metadata": {},
     "output_type": "display_data"
    }
   ],
   "source": [
    "for N in [2,5,10,100]:\n",
    "    run_pseudoexperiments(N)"
   ]
  },
  {
   "cell_type": "markdown",
   "metadata": {},
   "source": [
    "According to the central limit theorem, we'd expect the standard deviation $\\sigma_N$ to go as $\\sigma_{u}/\\sqrt{N}$,\n",
    "where $$\\sigma_u = \\frac{1}{\\sqrt{12}}$$ is the standard deviation of the (0,1) uniform distribution.  "
   ]
  },
  {
   "cell_type": "code",
   "execution_count": 9,
   "metadata": {},
   "outputs": [
    {
     "name": "stdout",
     "output_type": "stream",
     "text": [
      "N \t σ\n",
      "2 \t 0.204\n",
      "5 \t 0.129\n",
      "10 \t 0.091\n",
      "100 \t 0.029\n"
     ]
    }
   ],
   "source": [
    "print(\"N \\t \\u03C3\")\n",
    "for N in [2,5,10,100]:\n",
    "    print(\"{0} \\t {1:.3f}\".format(N,np.sqrt(1/12)/np.sqrt(N)))"
   ]
  },
  {
   "cell_type": "markdown",
   "metadata": {},
   "source": [
    "## 2. Silicon Detector Position Resolution: Analytic Calculation"
   ]
  },
  {
   "cell_type": "markdown",
   "metadata": {},
   "source": [
    "In this problem and the next we will study how the position resolution of a detector depends upon the properties of that detector. For our example, we will consider a silicon micro-strip detector. We will describe our detector as a plane segmented into strips, each of width $\\ell$. When a track passes through the plane, it deposits energy in the detector and that energy is collected using charge sensitive ampliﬁers (one per strip). You many assume that the incident track is normal to the silicon plane. Looking down on the strip detector (so that the incident tracks are traveling into the page), the detector looks like this:"
   ]
  },
  {
   "cell_type": "markdown",
   "metadata": {},
   "source": [
    "<img src=\"strips.png\" alt=\"Drawing\" style=\"width: 600px;\"/>"
   ]
  },
  {
   "cell_type": "markdown",
   "metadata": {},
   "source": [
    "The position $x=0$, $y=0$ is taken to be the center of the middle strip."
   ]
  },
  {
   "cell_type": "markdown",
   "metadata": {},
   "source": [
    "**(a)** Suppose all the energy is deposited in a single strip (the strip the\n",
    "track passes through).  Find an expression for the position resolution\n",
    "of the detector as a function of $\\ell$. The position resolution is defined\n",
    "to be $\\sigma_x = \\sqrt{var[(x_{meas}-x_{true})]}$ where $x_{true}$ is the \n",
    "position where the track actually hit the detector.  Because we only\n",
    "know which strip is hit, in this example \n",
    "$x_{meas}$ is the center of the strip that is hit."
   ]
  },
  {
   "cell_type": "markdown",
   "metadata": {},
   "source": [
    "**Answer** Let us consider the strip at the middle of the detector.  In this case, $x_{meas} = 0$ and $x_{true} = x$.  If particles entering the strip are uniformly distributed in the $x$-direction, then we can use our results from Problem **1** with $a = -\\frac{\\ell}{2}$ and $b = + \\frac{\\ell}{2}$.  In this case, we have $\\mu = 0$ and $\\sigma_x = \\frac{\\ell}{\\sqrt{12}}$."
   ]
  },
  {
   "cell_type": "markdown",
   "metadata": {},
   "source": [
    "**(b)** Suppose that \n",
    "the charge deposited in our detector spreads out due\n",
    "to physical effects such as diffusion. It is possible for more than\n",
    "one strip to register a signal.  Assume in this part that our electronics\n",
    "is binary (i.e. registers a 1 if the deposited energy on the\n",
    "strip is above a specified threshold\n",
    "and 0 otherwise). Assume the threshold on the electronics is\n",
    "such that particles hitting within\n",
    "a  distance of $\\pm \\ell/3 $ of the center of the strip only register on\n",
    "a single strip while all particles hitting further from the strip\n",
    "center register on two strips.\n",
    "\n",
    "What is the position resolution now? (Here, if\n",
    "only one strip is hit, $x_{meas}$ is the center of the strip.  If\n",
    "two strips are hit, then $x_{meas}$ is the common edge of the two\n",
    "hit strips).  **Note:** this is *not* an unrealistic example.  The ATLAS silicon\n",
    "strip detector has such binary readout."
   ]
  },
  {
   "cell_type": "markdown",
   "metadata": {},
   "source": [
    "**Answer** Again, let us consider the strip at the middle of the detector. We have three cases to consider:\n",
    "\n",
    "1. Hits within a distance $\\pm \\ell/3$ of the center; $x_{meas} = 0$.\n",
    "2. Hits from $-\\ell/2$ to $-\\ell/3$; two strips register a hit and $x_{meas} = -\\frac{\\ell}{2}$.\n",
    "3. Hits from $\\ell/3$ to $\\ell/2$; two strips register a hit and $x_{meas} = \\frac{\\ell}{2}$.\n",
    "\n",
    "If particles are uniformly distributed in the $x$-direction, $\\mu = 0$ by the symmetry of the problem; but we will have to recalculate the variance to find $\\sigma_x$."
   ]
  },
  {
   "cell_type": "markdown",
   "metadata": {},
   "source": [
    "$$\\begin{align*}\n",
    "    \\sigma_x^2 &= \\int (x_{meas} - x_{true})^2 \\ f(x) \\ dx\\\\\n",
    "               &= \\frac{1}{\\ell} \\int_{-\\ell/2}^{\\ell/2} (x_{meas} - x)^2 \\ dx\\\\\n",
    "               &= \\frac{1}{\\ell} \\Big( \\int_{-\\ell/2}^{-\\ell/3} (-\\ell/2 - x)^2 \\ dx + \\int_{-\\ell/3}^{\\ell/3} x^2 \\ dx + \\int_{\\ell/3}^{\\ell/2} (\\ell/2 - x)^2 \\ dx \\Big)\\\\\n",
    "               &= \\frac{1}{\\ell} \\Big(  \\int_{-\\ell/3}^{\\ell/3} x^2 dx + 2\\int_{\\ell/3}^{\\ell/2} (\\ell/2 - x)^2 dx \\Big)\\\\\n",
    "               &= \\frac{1}{\\ell} \\Big( \\frac{2 \\ell^3}{81} + 2 \\frac{\\ell^3}{648} \\Big)\\\\\n",
    "               & = \\frac{1}{36}\\ell^2\n",
    "\\end{align*}$$"
   ]
  },
  {
   "cell_type": "markdown",
   "metadata": {},
   "source": [
    "Thus the position resolution is now $\\sigma_x = \\frac{\\ell}{6}$."
   ]
  },
  {
   "cell_type": "markdown",
   "metadata": {},
   "source": [
    "## 3. Silicon Detector Position Resolution: Monte Carlo Calculation "
   ]
  },
  {
   "cell_type": "markdown",
   "metadata": {},
   "source": [
    "In problem 2, it was possible to calculate the position resolution analytically. In cases where the detector response is more complicated, this may not be the case. Typically, physicists model detector performance using Monte Carlo simulations. In this problem, you will write a simple simulation to determine the position resolution of a silicon detector.\n"
   ]
  },
  {
   "cell_type": "markdown",
   "metadata": {},
   "source": [
    "**(a)** Let's begin by reproducing the analytic results obtained in problem **2**.\n",
    "Consider a silicon strip detector that consisting of several strips of width $\\ell$.  \n",
    "Assume that the incident particles have a uniform distribution\n",
    "in $x$ with $-\\ell/2 < x < \\ell/2$ and all have $y=0$. (We'll just focus on this \"center strip\", so $x_{meas}$ can either be $-\\ell/2$, $0$, or $\\ell/2$ depending on where the particle hits.)\n",
    "Generate 10,000 such particles for\n",
    "the case described in part **2(a)** and for the case described\n",
    "in part **2(b)**.\n",
    "For each case, make a histogram of ($x_{meas}-x_{true}$) and \n",
    "verify that\n",
    "the resolution \n",
    "is consistent with that  obtained in problem **2**. "
   ]
  },
  {
   "cell_type": "markdown",
   "metadata": {},
   "source": [
    "**Answer** We'll start by making a new plotting function for convenience, with different bounds and a new title:"
   ]
  },
  {
   "cell_type": "code",
   "execution_count": 10,
   "metadata": {},
   "outputs": [],
   "source": [
    "#Makes a histogram filled with the random numbers we generate\n",
    "def plot_histogram2(samples):\n",
    "    \n",
    "    #It would be nice to have the mean and standard deviation in the title, so let's get these\n",
    "    mean, sigma = np.mean(samples), np.sqrt(np.var(samples))\n",
    "    \n",
    "    #Plot the histogram of the sampled data with 100 bins and a nice color\n",
    "    plt.hist(samples, bins=100, range=(-0.5,0.5), color=(0,0.7,0.9))\n",
    "\n",
    "    #Add some axis labels and a descriptive title\n",
    "    plt.xlabel('sample value')\n",
    "    plt.ylabel('number of samples')\n",
    "    plt.title('detector position error \\n $\\mu={0:.3f},\\ \\sigma={1:.3f}$'.format(mean,sigma) )\n",
    "\n",
    "    #Get rid of the extra white space on the left/right edges (you can delete these two lines without a problem)\n",
    "    xmin, xmax, ymin, ymax = plt.axis()\n",
    "    plt.axis([-0.5,0.5,ymin,ymax])\n",
    "\n",
    "    #Not necessarily needed in a Jupyter notebook, but it doesn't hurt\n",
    "    plt.show()"
   ]
  },
  {
   "cell_type": "markdown",
   "metadata": {},
   "source": [
    "We can use [**np.random.uniform()**](https://docs.scipy.org/doc/numpy/reference/generated/numpy.random.uniform.html) to sample from a uniform distribution with arbitrary bounds.  We'd like 10,000 samples for this problem, so we set **size = 10000**.  Note that we take $\\ell = 1$ for simplicity."
   ]
  },
  {
   "cell_type": "code",
   "execution_count": 11,
   "metadata": {},
   "outputs": [
    {
     "data": {
      "image/png": "[encoded data removed]",
      "text/plain": [
       "<matplotlib.figure.Figure at 0x248ad1b9358>"
      ]
     },
     "metadata": {},
     "output_type": "display_data"
    }
   ],
   "source": [
    "samples = np.random.uniform(-0.5, 0.5, size=10000)\n",
    "plot_histogram2(samples)"
   ]
  },
  {
   "cell_type": "markdown",
   "metadata": {},
   "source": [
    "For the case of **2(a)**, $x_{meas}=0$ (the center of the strip), so we can simply find the variance of these samples and take the square root to find the position resolution.  Note that this is really just a repetition of the first problem, but with our bounds shifted from (0,1) to (-0.5,0.5)."
   ]
  },
  {
   "cell_type": "code",
   "execution_count": 12,
   "metadata": {},
   "outputs": [
    {
     "name": "stdout",
     "output_type": "stream",
     "text": [
      "position resolution = 0.287 using a Monte Carlo method\n",
      "position resolution = 0.289 using an analytical method\n"
     ]
    }
   ],
   "source": [
    "sigma_x = np.sqrt(np.var(samples))\n",
    "\n",
    "print(\"position resolution = {0:.3f} using a Monte Carlo method\".format(sigma_x))\n",
    "print(\"position resolution = {0:.3f} using an analytical method\".format(1/np.sqrt(12)))"
   ]
  },
  {
   "cell_type": "markdown",
   "metadata": {},
   "source": [
    "For the case of **2(b)**, we need to consider the three different cases for $x_{meas}$."
   ]
  },
  {
   "cell_type": "code",
   "execution_count": 13,
   "metadata": {},
   "outputs": [
    {
     "data": {
      "image/png": "[encoded data removed]",
      "text/plain": [
       "<matplotlib.figure.Figure at 0x248ad17e6a0>"
      ]
     },
     "metadata": {},
     "output_type": "display_data"
    },
    {
     "name": "stdout",
     "output_type": "stream",
     "text": [
      "position resolution = 0.166 using a Monte Carlo method\n",
      "position resolution = 0.167 using an analytical method\n"
     ]
    }
   ],
   "source": [
    "#We'll call the quantity (x_meas - x_true) the \"error\" of the measurement\n",
    "errors = []\n",
    "\n",
    "#Go through each of our random samples and append (x_meas - x_true) to the error list\n",
    "for sample in samples:\n",
    "    #particle hits the left third of strip\n",
    "    if sample < -1/3:\n",
    "        errors.append(-0.5 - sample)\n",
    "    #particle hits the right third of strip\n",
    "    elif sample > 1/3:\n",
    "        errors.append(0.5 - sample)\n",
    "    else:\n",
    "        errors.append(0 - sample)\n",
    "\n",
    "plot_histogram2(errors)\n",
    "\n",
    "#Compare our position resolution to the analytical value of l/6\n",
    "sigma_x = np.sqrt(np.var(errors))\n",
    "print(\"position resolution = {0:.3f} using a Monte Carlo method\".format(sigma_x))\n",
    "print(\"position resolution = {0:.3f} using an analytical method\".format(1/6))"
   ]
  },
  {
   "cell_type": "markdown",
   "metadata": {},
   "source": [
    "**(b)** Now, let us replace our binary electronics from part 2(b) with analog electronics (so that the magnitude of the charge deposited on the strip is recorded).  We will model the transverse spreading of the charge from our incident\n",
    "track using a Gaussian distribution with width $\\sigma_M$: \n",
    "\n",
    "$$ f(x)\\ dx = \\frac{1}{\\sigma_M\\sqrt{2\\pi}} \\exp(-(x-x_0)^2/2\\sigma_M^2)\\ dx$$\n",
    "\n",
    "where $f(x)$ is the charge deposited between position $x$ and $x+dx$ and $x_0$ is the point where the track hits the detector.\n",
    "Assume that the total energy deposited by each track is 1 MIP (a MIP is the energy deposited by a single minimum ionizing particle), that our analog electronics has a threshold of 0.2 MIP and that $\\sigma_M=\\ell$.  Also assume that the electronics has an intrinsic noise contribution $\\sigma_N=0.1$ MIP. (This means that the measurement of the charge on each strip is modified by adding a noise contribution that is distributed according\n",
    "to a Gaussian with mean 0 and variance $\\sigma_N^2$.  Assume that the\n",
    "noise on neighboring strips is uncorrelated.)\n",
    "\n",
    "Generate 10,000 particles and simulate the response of this\n",
    "silcon strip detector (**using 7 strips now**) to these particles.  From this simulation\n",
    "determine the position resolution of the silicon detector.\n",
    "Assume that in the analysis of these data the measured position of the particle is:\n",
    "$$\n",
    "x_{meas} = \\sum_{i=strips} q_i x_i\n",
    "$$\n",
    "where the index $i$ is the strip number, $q_i$ is the measured\n",
    "charge on the strip (set to zero for strips with charge below\n",
    "threshold) and $x_i$ is the position of the center of strip $i$.\n",
    "\n",
    "Once again, assume that the incident particles have a uniform distribution\n",
    "in $x$ with $-\\ell/2 < x < \\ell/2$."
   ]
  },
  {
   "cell_type": "markdown",
   "metadata": {},
   "source": [
    "**Answer** We'll take $\\sigma_M = \\ell = 1$ for simplicity.  To keep track of our detector geometry, we'll first create a list of each strip's centers along with a list of its left/right bounds.  "
   ]
  },
  {
   "cell_type": "code",
   "execution_count": 14,
   "metadata": {},
   "outputs": [
    {
     "name": "stdout",
     "output_type": "stream",
     "text": [
      "[-3, -2, -1, 0, 1, 2, 3] [[-3.5, -2.5], [-2.5, -1.5], [-1.5, -0.5], [-0.5, 0.5], [0.5, 1.5], [1.5, 2.5], [2.5, 3.5]]\n"
     ]
    }
   ],
   "source": [
    "num_strips = 7  #Keep this odd so the problem is symmetric\n",
    "centers = []\n",
    "bounds = []\n",
    "\n",
    "for i in range(-int(num_strips/2),int(num_strips/2)+1):\n",
    "    centers.append(i)\n",
    "    bounds.append([i-0.5, i+0.5])\n",
    "    \n",
    "print(centers, bounds)"
   ]
  },
  {
   "cell_type": "markdown",
   "metadata": {},
   "source": [
    "Next, we'll use the error function to integrate over the Gaussian distribution while finding the charge deposited on each strip.  We'll also implement the weighted sum in finding the measured position."
   ]
  },
  {
   "cell_type": "code",
   "execution_count": 15,
   "metadata": {
    "collapsed": true
   },
   "outputs": [],
   "source": [
    "#Import the error function to help integrate the gaussian distribution\n",
    "from math import erf\n",
    "\n",
    "#Finds the charge deposited on strip i with a hit at location x\n",
    "def get_charge(i,x):\n",
    "    return((erf((bounds[i][1] - x)/np.sqrt(2)) - erf((bounds[i][0] - x)/np.sqrt(2)))/2)\n",
    "\n",
    "#Finds the measured particle position                           \n",
    "def find_xmeas(charges, cutoff):\n",
    "    x_meas = 0\n",
    "    #This for loop corresponds to the sum given in the problem statement\n",
    "    for i in range(len(charges)):\n",
    "        #Charge measurement is only considered if it exceeds the defined threshold\n",
    "        if charges[i] > cutoff:\n",
    "            x_meas += charges[i]*centers[i]\n",
    "    return x_meas"
   ]
  },
  {
   "cell_type": "markdown",
   "metadata": {},
   "source": [
    "Finally, we'll write a function that finds the position resolution for any intrinsic noise and charge threshold."
   ]
  },
  {
   "cell_type": "code",
   "execution_count": 16,
   "metadata": {
    "collapsed": true
   },
   "outputs": [],
   "source": [
    "def test_analog_electronics(noise, cutoff):\n",
    "    samples = np.random.uniform(-0.5,0.5, size=10000)\n",
    "    errors = []\n",
    "    for x_true in samples:\n",
    "        #Calculate the charge deposited on each detector strip\n",
    "        charges = []\n",
    "        for i in range(num_strips):\n",
    "            charges.append(get_charge(i,x_true))\n",
    "\n",
    "        #Add intrinsic noise to the electronics\n",
    "        charges += np.random.normal(0, noise, sample.size)\n",
    "\n",
    "        #Find the measured position of the particle\n",
    "        x_meas = find_xmeas(charges, cutoff)\n",
    "\n",
    "        errors.append(x_meas - x_true)\n",
    "    \n",
    "    plot_histogram2(errors)"
   ]
  },
  {
   "cell_type": "code",
   "execution_count": 17,
   "metadata": {},
   "outputs": [
    {
     "data": {
      "image/png": "[encoded data removed]",
      "text/plain": [
       "<matplotlib.figure.Figure at 0x248ad463ac8>"
      ]
     },
     "metadata": {},
     "output_type": "display_data"
    }
   ],
   "source": [
    "test_analog_electronics(0.1,0.2)"
   ]
  },
  {
   "cell_type": "code",
   "execution_count": 18,
   "metadata": {},
   "outputs": [
    {
     "data": {
      "image/png": "[encoded data removed]",
      "text/plain": [
       "<matplotlib.figure.Figure at 0x248ae4c3be0>"
      ]
     },
     "metadata": {},
     "output_type": "display_data"
    }
   ],
   "source": [
    "test_analog_electronics(0.05,0.2)"
   ]
  },
  {
   "cell_type": "code",
   "execution_count": null,
   "metadata": {
    "collapsed": true
   },
   "outputs": [],
   "source": []
  }
 ],
 "metadata": {
  "kernelspec": {
   "display_name": "Python 3",
   "language": "python",
   "name": "python3"
  },
  "language_info": {
   "codemirror_mode": {
    "name": "ipython",
    "version": 3
   },
   "file_extension": ".py",
   "mimetype": "text/x-python",
   "name": "python",
   "nbconvert_exporter": "python",
   "pygments_lexer": "ipython3",
   "version": "3.6.3"
  }
 },
 "nbformat": 4,
 "nbformat_minor": 2
}
